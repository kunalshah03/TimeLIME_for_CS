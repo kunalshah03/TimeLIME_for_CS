{
 "cells": [
  {
   "cell_type": "code",
   "execution_count": 1,
   "id": "e822aa03",
   "metadata": {},
   "outputs": [],
   "source": [
    "from planner import *\n",
    "import matplotlib.pyplot as plt\n",
    "import warnings\n",
    "warnings.filterwarnings(\"ignore\")"
   ]
  },
  {
   "cell_type": "code",
   "execution_count": 2,
   "id": "c130630e",
   "metadata": {},
   "outputs": [
    {
     "name": "stdout",
     "output_type": "stream",
     "text": [
      "RUNNING FREQUENT ITEMSET LEARNING\n"
     ]
    }
   ],
   "source": [
    "paras = [True]\n",
    "explainer = None\n",
    "print(\"RUNNING FREQUENT ITEMSET LEARNING\")\n",
    "fnames = [['3dmol_3Dmol_split_1.csv', '3dmol_3Dmol_split_2.csv', '3dmol_3Dmol_split_3.csv'],\n",
    "              ['abinit_abinit_split_1.csv', 'abinit_abinit_split_2.csv', 'abinit_abinit_split_3.csv'],\n",
    "              ['alchemistry_alchemlyb_split_1.csv', 'alchemistry_alchemlyb_split_2.csv', 'alchemistry_alchemlyb_split_3.csv'],\n",
    "              ['Amber-MD_cpptraj_split_1.csv', 'Amber-MD_cpptraj_split_2.csv', 'Amber-MD_cpptraj_split_3.csv'],\n",
    "              ['Amber-MD_pytraj_split_1.csv', 'Amber-MD_pytraj_split_2.csv', 'Amber-MD_pytraj_split_3.csv'],\n",
    "              ['birkir_prime_split_1.csv', 'birkir_prime_split_2.csv', 'birkir_prime_split_3.csv'],\n",
    "              ['BOINC_boinc_split_1.csv', 'BOINC_boinc_split_2.csv', 'BOINC_boinc_split_3.csv'],\n",
    "              ['bustoutsolutions_siesta_split_1.csv', 'bustoutsolutions_siesta_split_2.csv', 'bustoutsolutions_siesta_split_3.csv'],\n",
    "              ['cclib_cclib_split_1.csv', 'cclib_cclib_split_2.csv', 'cclib_cclib_split_3.csv'],\n",
    "              ['chemfiles_chemfiles_split_1.csv', 'chemfiles_chemfiles_split_2.csv', 'chemfiles_chemfiles_split_3.csv']\n",
    "              ]"
   ]
  },
  {
   "cell_type": "code",
   "execution_count": null,
   "id": "f7d7ca11",
   "metadata": {},
   "outputs": [
    {
     "name": "stdout",
     "output_type": "stream",
     "text": [
      "actionable\n",
      "[0, 0, 0, 0, 0, 0, 0, 0, 0, 1, 0, 0, 1, 1, 0, 1, 1, 0]\n",
      "Runtime: 111.65696358680725\n",
      "3dmol_3Dmol_split_1.csv 0\n",
      ">>>\n",
      ">>>\n",
      ">>>\n",
      "actionable\n",
      "[1, 0, 0, 1, 0, 0, 1, 1, 1, 0, 0, 0, 0, 0, 0, 0, 0, 0]\n",
      "Runtime: 99.1530613899231\n",
      "abinit_abinit_split_1.csv 0\n",
      ">>>\n",
      ">>>\n",
      ">>>\n",
      "actionable\n",
      "[0, 0, 1, 0, 1, 0, 1, 0, 0, 1, 1, 0, 0, 0, 0, 0, 0, 0]\n",
      "Runtime: 173.53473496437073\n",
      "alchemistry_alchemlyb_split_1.csv 0\n",
      ">>>\n",
      ">>>\n",
      ">>>\n",
      "actionable\n",
      "[0, 0, 0, 0, 0, 1, 0, 1, 0, 0, 1, 0, 1, 1, 0, 0, 0, 0]\n",
      "Runtime: 82.41323661804199\n",
      "Amber-MD_cpptraj_split_1.csv 0\n",
      ">>>\n",
      ">>>\n",
      ">>>\n",
      "actionable\n",
      "[0, 0, 0, 0, 0, 0, 0, 0, 1, 0, 0, 0, 1, 1, 0, 1, 1, 0]\n",
      "Runtime: 56.67784309387207\n",
      "Amber-MD_pytraj_split_1.csv 0\n",
      ">>>\n",
      ">>>\n",
      ">>>\n",
      "actionable\n",
      "[1, 1, 1, 0, 0, 0, 0, 0, 1, 1, 0, 0, 0, 0, 0, 0, 0, 0]\n",
      "Runtime: 47.60991978645325\n",
      "birkir_prime_split_1.csv 0\n",
      ">>>\n",
      ">>>\n",
      ">>>\n",
      "actionable\n",
      "[0, 0, 0, 1, 0, 0, 0, 1, 1, 0, 0, 1, 1, 0, 0, 0, 0, 0]\n"
     ]
    }
   ],
   "source": [
    " old, new = [], []\n",
    "for par in paras:\n",
    "    for name in fnames:\n",
    "        o, n = historical_logs(name, 18, explainer, smote=True, small=.03, act=par)\n",
    "        old.append(o)\n",
    "        new.append(n)\n",
    "everything = []\n",
    "for i in range(len(new)):\n",
    "    everything.append(old[i] + new[i])"
   ]
  },
  {
   "cell_type": "code",
   "execution_count": null,
   "id": "f7d231b8",
   "metadata": {},
   "outputs": [],
   "source": []
  }
 ],
 "metadata": {
  "kernelspec": {
   "display_name": "Python 3 (ipykernel)",
   "language": "python",
   "name": "python3"
  },
  "language_info": {
   "codemirror_mode": {
    "name": "ipython",
    "version": 3
   },
   "file_extension": ".py",
   "mimetype": "text/x-python",
   "name": "python",
   "nbconvert_exporter": "python",
   "pygments_lexer": "ipython3",
   "version": "3.9.5"
  }
 },
 "nbformat": 4,
 "nbformat_minor": 5
}
